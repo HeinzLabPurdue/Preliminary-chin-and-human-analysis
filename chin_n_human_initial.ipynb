{
 "cells": [
  {
   "cell_type": "code",
   "execution_count": null,
   "id": "4aba58e2",
   "metadata": {},
   "outputs": [],
   "source": [
    "# import all libraries\n",
    "\n",
    "import os\n",
    "import sys\n",
    "import mne\n",
    "import fnmatch\n",
    "import numpy as np\n",
    "import matplotlib.pyplot as plt\n",
    "sys.path.append('C:/Users/Heinz Lab Analysis/Downloads/ANLffr-master/') # change folder destination for the anlffr directory\n",
    "from anlffr.helper import biosemi2mne as bs\n",
    "from anlffr.preproc import find_blinks\n",
    "from mne import compute_proj_epochs"
   ]
  },
  {
   "cell_type": "code",
   "execution_count": null,
   "id": "7af134fc",
   "metadata": {},
   "outputs": [],
   "source": [
    "# loading just one file \n",
    "x1='//datadepot.rcac.purdue.edu/depot/heinz/data/UserTESTS/MP/Chin EEG data/bdf data/042925/Q513_STM_tone_nonoise.bdf'# name and address of the file you want to load\n",
    "raw,eves=bs.importbdf(x1,verbose='DEBUG',refchans=['EXG1', 'EXG2'])# raw and eves extracted from the selected file\n"
   ]
  },
  {
   "cell_type": "code",
   "execution_count": null,
   "id": "f0b973d8",
   "metadata": {},
   "outputs": [],
   "source": [
    "# loading multiple files with same name\n",
    "fl_dir='//datadepot.rcac.purdue.edu/depot/heinz/data/UserTESTS/MP/Chin EEG data/bdf data/042925/' # name of the folder where your file is present\n",
    "os.chdir(fl_dir) # changing directory to data folder\n",
    "fl_nm = 'Q513_STM_tone_nonoise' # name of the file you want to load\n",
    "bdfs = fnmatch.filter(os.listdir(),fl_nm + '*.bdf') # string matching to find all the files which has the string of the file name\n",
    "bdfs.sort(key=os.path.getmtime)# sorting them according to order in which they were collected\n",
    "\n",
    "# for loop to load each of the bdfs files one by one and concatenate the raw and eves structure\n",
    "rawlist=[]\n",
    "eveslist=[]\n",
    "\n",
    "for bdf in bdfs:\n",
    "    rawtemp,evestemp=bs.importbdf(fl_dir+'/'+bdf,verbose='DEBUG',refchans=['EXG1', 'EXG2'])\n",
    "    rawlist+=[rawtemp, ]\n",
    "    eveslist+=[evestemp, ]\n",
    "raw, eves = mne.concatenate_raws(rawlist, events_list=eveslist)\n"
   ]
  },
  {
   "cell_type": "code",
   "execution_count": null,
   "id": "74273981",
   "metadata": {},
   "outputs": [],
   "source": [
    "# setting headcap montage - in case if you want to make topological maps. You can skip this if you dont get any error in the topo map step\n",
    "montage = mne.channels.make_standard_montage(\"biosemi32\")\n",
    "raw.set_eeg_reference(projection=True)\n",
    "mdc = dict(zip(raw.ch_names,montage.ch_names))\n",
    "raw.rename_channels(mdc)\n",
    "raw.set_montage(montage,on_missing='ignore')\n",
    "raw.pick_channels(montage.ch_names)\n"
   ]
  },
  {
   "cell_type": "code",
   "execution_count": null,
   "id": "25b37eb2",
   "metadata": {},
   "outputs": [],
   "source": [
    "# filter - low band pass for scalp and high band pass for subdermal\n",
    "raw1=raw\n",
    "raw=raw1\n",
    "raw.filter(1.,40.) # for scalp  # leave some frequencies on the left hand side to get rid of the DC component\n",
    "raw.filter(40.,4000.) # for subdermal"
   ]
  },
  {
   "cell_type": "code",
   "execution_count": null,
   "id": "a8aab8e5",
   "metadata": {},
   "outputs": [],
   "source": [
    "# visualise the raw plots to find bad channels and identify noisy channels - you may choose not to do it\n",
    "%matplotlib\n",
    "raw.plot(duration=25.0, n_channels=32, scalings=dict(eeg=200e-6))"
   ]
  },
  {
   "cell_type": "code",
   "execution_count": null,
   "id": "fd5dc1f5",
   "metadata": {},
   "outputs": [],
   "source": [
    "# remove bad channels that you think is noise\n",
    "# just some examples\n",
    "raw.info['bads'].append('A12') \n",
    "raw.info['bads'].append('A26') \n",
    "raw.info['bads'].append('A27') \n",
    "raw.info['bads'].append('A20') "
   ]
  },
  {
   "cell_type": "code",
   "execution_count": null,
   "id": "f1f3f9ac",
   "metadata": {},
   "outputs": [],
   "source": [
    "# blink rejection - only for humans\n",
    "blinks = find_blinks(raw)\n",
    "raw.plot(events=blinks, duration=25.0, n_channels=32, scalings=dict(eeg=200e-6)) # visualize blink events\n",
    "epochs_blinks = mne.Epochs(raw, blinks, event_id=998, baseline=(-0.25, 0.25),reject=dict(eeg=500e-6), tmin=-0.25, tmax=0.25)\n",
    "blink_proj = compute_proj_epochs(epochs_blinks, n_eeg=1)\n",
    "raw.add_proj(blink_proj)\n",
    "\n",
    "raw.plot(duration=25.0, n_channels=32, scalings=dict(eeg=200e-6)) # visualize data after blink rejection"
   ]
  },
  {
   "cell_type": "code",
   "execution_count": null,
   "id": "35b910d0",
   "metadata": {},
   "outputs": [],
   "source": [
    "# epoch the data \n",
    "epochs_1= mne.Epochs(raw, eves, event_id=1, baseline=(-0.3, 0), proj=True,tmin=-0.3, tmax=2.2, reject=dict(eeg=200e-6))\n",
    "epochs_2= mne.Epochs(raw, eves, event_id=2, baseline=(-0.3, 0), proj=True,tmin=-0.3, tmax=2.2, reject=dict(eeg=200e-6))\n",
    "t_full=epochs_1.times\n",
    "picks = (6, 7, 8,21, 22, 23, 28, 29, 13) # select channels that you want to work with\n",
    "\n",
    "ep1_all=(epochs_1.get_data()[:,picks,:]).mean(axis=1)\n",
    "ep2_all=(epochs_2.get_data()[:,picks,:]).mean(axis=1)\n",
    "\n",
    "t_all=epochs_1.times\n",
    "\n",
    "ep1_mean=ep1_all.mean(axis=0)\n",
    "ep1_sem=ep1_all.std(axis=0)/np.sqrt(ep1_all.shape[0])\n",
    "ep2_mean=ep2_all.mean(axis=0)\n",
    "ep2_sem=ep2_all.std(axis=0)/np.sqrt(ep2_all.shape[0])"
   ]
  },
  {
   "cell_type": "code",
   "execution_count": null,
   "id": "de1c3294",
   "metadata": {},
   "outputs": [],
   "source": [
    "# plot mean epoched responses for all trigger types \n",
    "\n",
    "plt.figure(figsize=(15, 5))\n",
    "plt.subplot(1,2,1)\n",
    "plt.plot(t_full, ep1_mean,label='trig-1',color='blue')\n",
    "plt.fill_between(t_full, ep1_mean-ep1_sem, ep1_mean+ep1_sem,alpha=0.3,color='blue')\n",
    "\n",
    "plt.subplot(1,2,2)\n",
    "plt.plot(t_full, ep2_mean,label='trig-2',color='red')\n",
    "plt.fill_between(t_full, ep2_mean-ep2_sem, ep2_mean+ep2_sem,alpha=0.3,color='red')\n"
   ]
  },
  {
   "cell_type": "code",
   "execution_count": null,
   "id": "bab24ea6",
   "metadata": {},
   "outputs": [],
   "source": [
    "# topological spread - only for humans\n",
    "evoked_1=epochs_1.average() # take average across all iterations\n",
    "evoked_1.plot_topomap(1.25,size=2) # topo map at time 1.25s"
   ]
  },
  {
   "cell_type": "code",
   "execution_count": null,
   "id": "3ee17c52",
   "metadata": {},
   "outputs": [],
   "source": [
    "## for subdermal electrodes\n",
    "from scipy.signal import detrend\n",
    "\n",
    "raw=raw1\n",
    "raw.filter(40.,4000.)\n",
    "epochs_1= mne.Epochs(raw, eves, event_id=1, baseline=(-0.3, 0), proj=True,tmin=-0.3, tmax=2.2, reject=dict(eeg=200e-6),detrend=1)\n",
    "epochs_2= mne.Epochs(raw, eves, event_id=2, baseline=(-0.3, 0), proj=True,tmin=-0.3, tmax=2.2, reject=dict(eeg=200e-6),detrend=1)\n",
    "\n",
    "ep1_sub=(epochs_1.get_data()[:,35,:]-epochs_1.get_data()[:,36,:])\n",
    "ep2_sub=(epochs_2.get_data()[:,35,:]-epochs_2.get_data()[:,36,:])\n",
    "\n",
    "ep1_sub=(detrend(ep1_sub,axis=1))\n",
    "ep2_sub=(detrend(ep2_sub,axis=1))\n",
    "\n",
    "ep1_mean=ep1_sub.mean(axis=0)\n",
    "ep1_sem=ep1_sub.std(axis=0)/np.sqrt(ep1_sub.shape[0])\n",
    "ep2_mean=ep2_sub.mean(axis=0)\n",
    "ep2_sem=ep2_sub.std(axis=0)/np.sqrt(ep2_sub.shape[0])\n",
    "\n",
    "\n",
    "plt.figure(figsize=(15, 5))\n",
    "plt.subplot(1,2,1)\n",
    "plt.plot(t_full, ep1_mean,label='trig-1',color='blue')\n",
    "plt.fill_between(t_full, ep1_mean-ep1_sem, ep1_mean+ep1_sem,alpha=0.3,color='blue')\n",
    "\n",
    "plt.subplot(1,2,2)\n",
    "plt.plot(t_full, ep2_mean,label='trig-2',color='red')\n",
    "plt.fill_between(t_full, ep2_mean-ep2_sem, ep2_mean+ep2_sem,alpha=0.3,color='red')\n"
   ]
  }
 ],
 "metadata": {
  "language_info": {
   "name": "python"
  }
 },
 "nbformat": 4,
 "nbformat_minor": 5
}
